{
  "nbformat": 4,
  "nbformat_minor": 0,
  "metadata": {
    "colab": {
      "name": "Dance_forms.ipynb",
      "provenance": [],
      "mount_file_id": "12BkVlUydE1d_otbKLr8-rqUZcIR2YKXp",
      "authorship_tag": "ABX9TyMO6JUy8iksaWsOkLOuuiOA",
      "include_colab_link": true
    },
    "kernelspec": {
      "name": "python3",
      "display_name": "Python 3"
    }
  },
  "cells": [
    {
      "cell_type": "markdown",
      "metadata": {
        "id": "view-in-github",
        "colab_type": "text"
      },
      "source": [
        "<a href=\"https://colab.research.google.com/github/pawarharshit/tensorflow_programs/blob/master/Dance_forms.ipynb\" target=\"_parent\"><img src=\"https://colab.research.google.com/assets/colab-badge.svg\" alt=\"Open In Colab\"/></a>"
      ]
    },
    {
      "cell_type": "code",
      "metadata": {
        "id": "zHzXMoXX8eZe",
        "colab_type": "code",
        "colab": {}
      },
      "source": [
        ""
      ],
      "execution_count": null,
      "outputs": []
    },
    {
      "cell_type": "code",
      "metadata": {
        "id": "gVvhBDT985Vf",
        "colab_type": "code",
        "colab": {
          "base_uri": "https://localhost:8080/",
          "height": 51
        },
        "outputId": "735c7b8e-8d58-41c1-ed17-2ce538410bf1"
      },
      "source": [
        "!ls \"drive/My Drive\""
      ],
      "execution_count": 1,
      "outputs": [
        {
          "output_type": "stream",
          "text": [
            "'Colab Notebooks'\t     CS001_KE.twb    'Getting started.pdf'\n",
            "'Copy of facenet_keras.h5'   dance_form.zip  'MY Family'\n"
          ],
          "name": "stdout"
        }
      ]
    },
    {
      "cell_type": "code",
      "metadata": {
        "id": "_3eAOBoX87Lz",
        "colab_type": "code",
        "colab": {}
      },
      "source": [
        ""
      ],
      "execution_count": 1,
      "outputs": []
    },
    {
      "cell_type": "code",
      "metadata": {
        "id": "uW3_eAr59BD8",
        "colab_type": "code",
        "colab": {}
      },
      "source": [
        ""
      ],
      "execution_count": 1,
      "outputs": []
    },
    {
      "cell_type": "code",
      "metadata": {
        "id": "e5zmZpvl-qWm",
        "colab_type": "code",
        "colab": {
          "base_uri": "https://localhost:8080/",
          "height": 34
        },
        "outputId": "408641fb-6864-4b76-d58f-9d59b41e7be7"
      },
      "source": [
        "! mkdir dance_form"
      ],
      "execution_count": 2,
      "outputs": [
        {
          "output_type": "stream",
          "text": [
            "mkdir: cannot create directory ‘dance_form’: File exists\n"
          ],
          "name": "stdout"
        }
      ]
    },
    {
      "cell_type": "code",
      "metadata": {
        "id": "CJq5hmJp-sKe",
        "colab_type": "code",
        "colab": {
          "base_uri": "https://localhost:8080/",
          "height": 1000
        },
        "outputId": "dfb458c8-eeee-44c0-bb7f-677b0cd0cd57"
      },
      "source": [
        "!unzip \"drive/My Drive/dance_form.zip\" -d dance_form"
      ],
      "execution_count": 6,
      "outputs": [
        {
          "output_type": "stream",
          "text": [
            "Archive:  drive/My Drive/dance_form.zip\n",
            "   creating: dance_form/dataset/\n",
            "   creating: dance_form/dataset/test/\n",
            "  inflating: dance_form/dataset/test/508.jpg  \n",
            "  inflating: dance_form/dataset/test/246.jpg  \n",
            "  inflating: dance_form/dataset/test/473.jpg  \n",
            "  inflating: dance_form/dataset/test/485.jpg  \n",
            "  inflating: dance_form/dataset/test/128.jpg  \n",
            "  inflating: dance_form/dataset/test/410.jpg  \n",
            "  inflating: dance_form/dataset/test/465.jpg  \n",
            "  inflating: dance_form/dataset/test/196.jpg  \n",
            "  inflating: dance_form/dataset/test/340.jpg  \n",
            "  inflating: dance_form/dataset/test/467.jpg  \n",
            "  inflating: dance_form/dataset/test/306.jpg  \n",
            "  inflating: dance_form/dataset/test/171.jpg  \n",
            "  inflating: dance_form/dataset/test/323.jpg  \n",
            "  inflating: dance_form/dataset/test/332.jpg  \n",
            "  inflating: dance_form/dataset/test/330.jpg  \n",
            "  inflating: dance_form/dataset/test/170.jpg  \n",
            "  inflating: dance_form/dataset/test/479.jpg  \n",
            "  inflating: dance_form/dataset/test/9.jpg  \n",
            "  inflating: dance_form/dataset/test/283.jpg  \n",
            "  inflating: dance_form/dataset/test/114.jpg  \n",
            "  inflating: dance_form/dataset/test/507.jpg  \n",
            "  inflating: dance_form/dataset/test/183.jpg  \n",
            "  inflating: dance_form/dataset/test/200.jpg  \n",
            "  inflating: dance_form/dataset/test/457.jpg  \n",
            "  inflating: dance_form/dataset/test/264.jpg  \n",
            "  inflating: dance_form/dataset/test/194.jpg  \n",
            "  inflating: dance_form/dataset/test/518.jpg  \n",
            "  inflating: dance_form/dataset/test/175.jpg  \n",
            "  inflating: dance_form/dataset/test/64.jpg  \n",
            "  inflating: dance_form/dataset/test/152.jpg  \n",
            "  inflating: dance_form/dataset/test/270.jpg  \n",
            "  inflating: dance_form/dataset/test/125.jpg  \n",
            "  inflating: dance_form/dataset/test/38.jpg  \n",
            "  inflating: dance_form/dataset/test/440.jpg  \n",
            "  inflating: dance_form/dataset/test/302.jpg  \n",
            "  inflating: dance_form/dataset/test/394.jpg  \n",
            "  inflating: dance_form/dataset/test/448.jpg  \n",
            "  inflating: dance_form/dataset/test/463.jpg  \n",
            "  inflating: dance_form/dataset/test/20.jpg  \n",
            "  inflating: dance_form/dataset/test/301.jpg  \n",
            "  inflating: dance_form/dataset/test/28.jpg  \n",
            "  inflating: dance_form/dataset/test/61.jpg  \n",
            "  inflating: dance_form/dataset/test/398.jpg  \n",
            "  inflating: dance_form/dataset/test/349.jpg  \n",
            "  inflating: dance_form/dataset/test/271.jpg  \n",
            "  inflating: dance_form/dataset/test/286.jpg  \n",
            "  inflating: dance_form/dataset/test/431.jpg  \n",
            "  inflating: dance_form/dataset/test/316.jpg  \n",
            "  inflating: dance_form/dataset/test/224.jpg  \n",
            "  inflating: dance_form/dataset/test/411.jpg  \n",
            "  inflating: dance_form/dataset/test/278.jpg  \n",
            "  inflating: dance_form/dataset/test/456.jpg  \n",
            "  inflating: dance_form/dataset/test/45.jpg  \n",
            "  inflating: dance_form/dataset/test/324.jpg  \n",
            "  inflating: dance_form/dataset/test/6.jpg  \n",
            "  inflating: dance_form/dataset/test/59.jpg  \n",
            "  inflating: dance_form/dataset/test/86.jpg  \n",
            "  inflating: dance_form/dataset/test/470.jpg  \n",
            "  inflating: dance_form/dataset/test/374.jpg  \n",
            "  inflating: dance_form/dataset/test/132.jpg  \n",
            "  inflating: dance_form/dataset/test/216.jpg  \n",
            "  inflating: dance_form/dataset/test/95.jpg  \n",
            "  inflating: dance_form/dataset/test/17.jpg  \n",
            "  inflating: dance_form/dataset/test/162.jpg  \n",
            "  inflating: dance_form/dataset/test/346.jpg  \n",
            "  inflating: dance_form/dataset/test/439.jpg  \n",
            "  inflating: dance_form/dataset/test/232.jpg  \n",
            "  inflating: dance_form/dataset/test/150.jpg  \n",
            "  inflating: dance_form/dataset/test/401.jpg  \n",
            "  inflating: dance_form/dataset/test/145.jpg  \n",
            "  inflating: dance_form/dataset/test/23.jpg  \n",
            "  inflating: dance_form/dataset/test/514.jpg  \n",
            "  inflating: dance_form/dataset/test/193.jpg  \n",
            "  inflating: dance_form/dataset/test/416.jpg  \n",
            "  inflating: dance_form/dataset/test/447.jpg  \n",
            "  inflating: dance_form/dataset/test/220.jpg  \n",
            "  inflating: dance_form/dataset/test/505.jpg  \n",
            "  inflating: dance_form/dataset/test/147.jpg  \n",
            "  inflating: dance_form/dataset/test/210.jpg  \n",
            "  inflating: dance_form/dataset/test/40.jpg  \n",
            "  inflating: dance_form/dataset/test/284.jpg  \n",
            "  inflating: dance_form/dataset/test/55.jpg  \n",
            "  inflating: dance_form/dataset/test/378.jpg  \n",
            "  inflating: dance_form/dataset/test/520.jpg  \n",
            "  inflating: dance_form/dataset/test/484.jpg  \n",
            "  inflating: dance_form/dataset/test/112.jpg  \n",
            "  inflating: dance_form/dataset/test/360.jpg  \n",
            "  inflating: dance_form/dataset/test/317.jpg  \n",
            "  inflating: dance_form/dataset/test/71.jpg  \n",
            "  inflating: dance_form/dataset/test/202.jpg  \n",
            "  inflating: dance_form/dataset/test/92.jpg  \n",
            "  inflating: dance_form/dataset/test/11.jpg  \n",
            "  inflating: dance_form/dataset/test/67.jpg  \n",
            "  inflating: dance_form/dataset/test/138.jpg  \n",
            "  inflating: dance_form/dataset/test/506.jpg  \n",
            "  inflating: dance_form/dataset/test/146.jpg  \n",
            "  inflating: dance_form/dataset/test/318.jpg  \n",
            "  inflating: dance_form/dataset/test/198.jpg  \n",
            "  inflating: dance_form/dataset/test/375.jpg  \n",
            "  inflating: dance_form/dataset/test/41.jpg  \n",
            "  inflating: dance_form/dataset/test/421.jpg  \n",
            "  inflating: dance_form/dataset/test/129.jpg  \n",
            "  inflating: dance_form/dataset/test/14.jpg  \n",
            "  inflating: dance_form/dataset/test/460.jpg  \n",
            "  inflating: dance_form/dataset/test/34.jpg  \n",
            "  inflating: dance_form/dataset/test/380.jpg  \n",
            "  inflating: dance_form/dataset/test/238.jpg  \n",
            "  inflating: dance_form/dataset/test/392.jpg  \n",
            "  inflating: dance_form/dataset/test/80.jpg  \n",
            "  inflating: dance_form/dataset/test/517.jpg  \n",
            "  inflating: dance_form/dataset/test/13.jpg  \n",
            "  inflating: dance_form/dataset/test/189.jpg  \n",
            "  inflating: dance_form/dataset/test/390.jpg  \n",
            "  inflating: dance_form/dataset/test/487.jpg  \n",
            "  inflating: dance_form/dataset/test/438.jpg  \n",
            "  inflating: dance_form/dataset/test/482.jpg  \n",
            "  inflating: dance_form/dataset/test/206.jpg  \n",
            "  inflating: dance_form/dataset/test/217.jpg  \n",
            "  inflating: dance_form/dataset/test/285.jpg  \n",
            "  inflating: dance_form/dataset/test/385.jpg  \n",
            "  inflating: dance_form/dataset/test/495.jpg  \n",
            "  inflating: dance_form/dataset/test/269.jpg  \n",
            "  inflating: dance_form/dataset/test/429.jpg  \n",
            "  inflating: dance_form/dataset/test/291.jpg  \n",
            "  inflating: dance_form/dataset/test/461.jpg  \n",
            "  inflating: dance_form/dataset/test/256.jpg  \n",
            "  inflating: dance_form/dataset/test/48.jpg  \n",
            "  inflating: dance_form/dataset/test/290.jpg  \n",
            "  inflating: dance_form/dataset/test/437.jpg  \n",
            "  inflating: dance_form/dataset/test/498.jpg  \n",
            "  inflating: dance_form/dataset/test/173.jpg  \n",
            "  inflating: dance_form/dataset/test/280.jpg  \n",
            "  inflating: dance_form/dataset/test/119.jpg  \n",
            "  inflating: dance_form/dataset/test/363.jpg  \n",
            "  inflating: dance_form/dataset/test/97.jpg  \n",
            "  inflating: dance_form/dataset/test/414.jpg  \n",
            "  inflating: dance_form/dataset/test/386.jpg  \n",
            "  inflating: dance_form/dataset/test/424.jpg  \n",
            "  inflating: dance_form/dataset/test/157.jpg  \n",
            "  inflating: dance_form/dataset/test/33.jpg  \n",
            "  inflating: dance_form/dataset/test/354.jpg  \n",
            "  inflating: dance_form/dataset/test/57.jpg  \n",
            "  inflating: dance_form/dataset/test/108.jpg  \n",
            "  inflating: dance_form/dataset/test/239.jpg  \n",
            "  inflating: dance_form/dataset/test/441.jpg  \n",
            "  inflating: dance_form/dataset/test/215.jpg  \n",
            "  inflating: dance_form/dataset/test/373.jpg  \n",
            "  inflating: dance_form/dataset/test/292.jpg  \n",
            "  inflating: dance_form/dataset/test/110.jpg  \n",
            "  inflating: dance_form/dataset/test/510.jpg  \n",
            "  inflating: dance_form/dataset/test/275.jpg  \n",
            "  inflating: dance_form/dataset/test/366.jpg  \n",
            "  inflating: dance_form/dataset/test/226.jpg  \n",
            "  inflating: dance_form/dataset/test/35.jpg  \n",
            "  inflating: dance_form/dataset/test/458.jpg  \n",
            "  inflating: dance_form/dataset/test/358.jpg  \n",
            "   creating: dance_form/dataset/train/\n",
            "  inflating: dance_form/dataset/train/96.jpg  \n",
            "  inflating: dance_form/dataset/train/163.jpg  \n",
            "  inflating: dance_form/dataset/train/450.jpg  \n",
            "  inflating: dance_form/dataset/train/219.jpg  \n",
            "  inflating: dance_form/dataset/train/455.jpg  \n",
            "  inflating: dance_form/dataset/train/46.jpg  \n",
            "  inflating: dance_form/dataset/train/326.jpg  \n",
            "  inflating: dance_form/dataset/train/408.jpg  \n",
            "  inflating: dance_form/dataset/train/365.jpg  \n",
            "  inflating: dance_form/dataset/train/422.jpg  \n",
            "  inflating: dance_form/dataset/train/397.jpg  \n",
            "  inflating: dance_form/dataset/train/400.jpg  \n",
            "  inflating: dance_form/dataset/train/32.jpg  \n",
            "  inflating: dance_form/dataset/train/350.jpg  \n",
            "  inflating: dance_form/dataset/train/234.jpg  \n",
            "  inflating: dance_form/dataset/train/492.jpg  \n",
            "  inflating: dance_form/dataset/train/333.jpg  \n",
            "  inflating: dance_form/dataset/train/376.jpg  \n",
            "  inflating: dance_form/dataset/train/103.jpg  \n",
            "  inflating: dance_form/dataset/train/39.jpg  \n",
            "  inflating: dance_form/dataset/train/87.jpg  \n",
            "  inflating: dance_form/dataset/train/155.jpg  \n",
            "  inflating: dance_form/dataset/train/388.jpg  \n",
            "  inflating: dance_form/dataset/train/384.jpg  \n",
            "  inflating: dance_form/dataset/train/248.jpg  \n",
            "  inflating: dance_form/dataset/train/494.jpg  \n",
            "  inflating: dance_form/dataset/train/47.jpg  \n",
            "  inflating: dance_form/dataset/train/488.jpg  \n",
            "  inflating: dance_form/dataset/train/462.jpg  \n",
            "  inflating: dance_form/dataset/train/347.jpg  \n",
            "  inflating: dance_form/dataset/train/242.jpg  \n",
            "  inflating: dance_form/dataset/train/16.jpg  \n",
            "  inflating: dance_form/dataset/train/178.jpg  \n",
            "  inflating: dance_form/dataset/train/348.jpg  \n",
            "  inflating: dance_form/dataset/train/164.jpg  \n",
            "  inflating: dance_form/dataset/train/2.jpg  \n",
            "  inflating: dance_form/dataset/train/141.jpg  \n",
            "  inflating: dance_form/dataset/train/187.jpg  \n",
            "  inflating: dance_form/dataset/train/464.jpg  \n",
            "  inflating: dance_form/dataset/train/472.jpg  \n",
            "  inflating: dance_form/dataset/train/489.jpg  \n",
            "  inflating: dance_form/dataset/train/387.jpg  \n",
            "  inflating: dance_form/dataset/train/109.jpg  \n",
            "  inflating: dance_form/dataset/train/255.jpg  \n",
            "  inflating: dance_form/dataset/train/274.jpg  \n",
            "  inflating: dance_form/dataset/train/509.jpg  \n",
            "  inflating: dance_form/dataset/train/19.jpg  \n",
            "  inflating: dance_form/dataset/train/102.jpg  \n",
            "  inflating: dance_form/dataset/train/24.jpg  \n",
            "  inflating: dance_form/dataset/train/294.jpg  \n",
            "  inflating: dance_form/dataset/train/501.jpg  \n",
            "  inflating: dance_form/dataset/train/335.jpg  \n",
            "  inflating: dance_form/dataset/train/321.jpg  \n",
            "  inflating: dance_form/dataset/train/480.jpg  \n",
            "  inflating: dance_form/dataset/train/393.jpg  \n",
            "  inflating: dance_form/dataset/train/344.jpg  \n",
            "  inflating: dance_form/dataset/train/259.jpg  \n",
            "  inflating: dance_form/dataset/train/76.jpg  \n",
            "  inflating: dance_form/dataset/train/343.jpg  \n",
            "  inflating: dance_form/dataset/train/4.jpg  \n",
            "  inflating: dance_form/dataset/train/486.jpg  \n",
            "  inflating: dance_form/dataset/train/361.jpg  \n",
            "  inflating: dance_form/dataset/train/90.jpg  \n",
            "  inflating: dance_form/dataset/train/231.jpg  \n",
            "  inflating: dance_form/dataset/train/331.jpg  \n",
            "  inflating: dance_form/dataset/train/243.jpg  \n",
            "  inflating: dance_form/dataset/train/104.jpg  \n",
            "  inflating: dance_form/dataset/train/113.jpg  \n",
            "  inflating: dance_form/dataset/train/21.jpg  \n",
            "  inflating: dance_form/dataset/train/15.jpg  \n",
            "  inflating: dance_form/dataset/train/370.jpg  \n",
            "  inflating: dance_form/dataset/train/124.jpg  \n",
            "  inflating: dance_form/dataset/train/241.jpg  \n",
            "  inflating: dance_form/dataset/train/56.jpg  \n",
            "  inflating: dance_form/dataset/train/296.jpg  \n",
            "  inflating: dance_form/dataset/train/81.jpg  \n",
            "  inflating: dance_form/dataset/train/29.jpg  \n",
            "  inflating: dance_form/dataset/train/423.jpg  \n",
            "  inflating: dance_form/dataset/train/445.jpg  \n",
            "  inflating: dance_form/dataset/train/406.jpg  \n",
            "  inflating: dance_form/dataset/train/116.jpg  \n",
            "  inflating: dance_form/dataset/train/407.jpg  \n",
            "  inflating: dance_form/dataset/train/118.jpg  \n",
            "  inflating: dance_form/dataset/train/367.jpg  \n",
            "  inflating: dance_form/dataset/train/30.jpg  \n",
            "  inflating: dance_form/dataset/train/395.jpg  \n",
            "  inflating: dance_form/dataset/train/265.jpg  \n",
            "  inflating: dance_form/dataset/train/73.jpg  \n",
            "  inflating: dance_form/dataset/train/277.jpg  \n",
            "  inflating: dance_form/dataset/train/122.jpg  \n",
            "  inflating: dance_form/dataset/train/516.jpg  \n",
            "  inflating: dance_form/dataset/train/377.jpg  \n",
            "  inflating: dance_form/dataset/train/513.jpg  \n",
            "  inflating: dance_form/dataset/train/405.jpg  \n",
            "  inflating: dance_form/dataset/train/172.jpg  \n",
            "  inflating: dance_form/dataset/train/299.jpg  \n",
            "  inflating: dance_form/dataset/train/149.jpg  \n",
            "  inflating: dance_form/dataset/train/165.jpg  \n",
            "  inflating: dance_form/dataset/train/371.jpg  \n",
            "  inflating: dance_form/dataset/train/18.jpg  \n",
            "  inflating: dance_form/dataset/train/213.jpg  \n",
            "  inflating: dance_form/dataset/train/303.jpg  \n",
            "  inflating: dance_form/dataset/train/353.jpg  \n",
            "  inflating: dance_form/dataset/train/135.jpg  \n",
            "  inflating: dance_form/dataset/train/481.jpg  \n",
            "  inflating: dance_form/dataset/train/3.jpg  \n",
            "  inflating: dance_form/dataset/train/329.jpg  \n",
            "  inflating: dance_form/dataset/train/345.jpg  \n",
            "  inflating: dance_form/dataset/train/443.jpg  \n",
            "  inflating: dance_form/dataset/train/504.jpg  \n",
            "  inflating: dance_form/dataset/train/12.jpg  \n",
            "  inflating: dance_form/dataset/train/74.jpg  \n",
            "  inflating: dance_form/dataset/train/185.jpg  \n",
            "  inflating: dance_form/dataset/train/161.jpg  \n",
            "  inflating: dance_form/dataset/train/309.jpg  \n",
            "  inflating: dance_form/dataset/train/205.jpg  \n",
            "  inflating: dance_form/dataset/train/379.jpg  \n",
            "  inflating: dance_form/dataset/train/82.jpg  \n",
            "  inflating: dance_form/dataset/train/276.jpg  \n",
            "  inflating: dance_form/dataset/train/154.jpg  \n",
            "  inflating: dance_form/dataset/train/254.jpg  \n",
            "  inflating: dance_form/dataset/train/26.jpg  \n",
            "  inflating: dance_form/dataset/train/181.jpg  \n",
            "  inflating: dance_form/dataset/train/425.jpg  \n",
            "  inflating: dance_form/dataset/train/131.jpg  \n",
            "  inflating: dance_form/dataset/train/272.jpg  \n",
            "  inflating: dance_form/dataset/train/117.jpg  \n",
            "  inflating: dance_form/dataset/train/252.jpg  \n",
            "  inflating: dance_form/dataset/train/180.jpg  \n",
            "  inflating: dance_form/dataset/train/142.jpg  \n",
            "  inflating: dance_form/dataset/train/261.jpg  \n",
            "  inflating: dance_form/dataset/train/136.jpg  \n",
            "  inflating: dance_form/dataset/train/85.jpg  \n",
            "  inflating: dance_form/dataset/train/88.jpg  \n",
            "  inflating: dance_form/dataset/train/372.jpg  \n",
            "  inflating: dance_form/dataset/train/279.jpg  \n",
            "  inflating: dance_form/dataset/train/313.jpg  \n",
            "  inflating: dance_form/dataset/train/159.jpg  \n",
            "  inflating: dance_form/dataset/train/483.jpg  \n",
            "  inflating: dance_form/dataset/train/262.jpg  \n",
            "  inflating: dance_form/dataset/train/519.jpg  \n",
            "  inflating: dance_form/dataset/train/308.jpg  \n",
            "  inflating: dance_form/dataset/train/211.jpg  \n",
            "  inflating: dance_form/dataset/train/497.jpg  \n",
            "  inflating: dance_form/dataset/train/325.jpg  \n",
            "  inflating: dance_form/dataset/train/169.jpg  \n",
            "  inflating: dance_form/dataset/train/244.jpg  \n",
            "  inflating: dance_form/dataset/train/474.jpg  \n",
            "  inflating: dance_form/dataset/train/322.jpg  \n",
            "  inflating: dance_form/dataset/train/94.jpg  \n",
            "  inflating: dance_form/dataset/train/314.jpg  \n",
            "  inflating: dance_form/dataset/train/356.jpg  \n",
            "  inflating: dance_form/dataset/train/22.jpg  \n",
            "  inflating: dance_form/dataset/train/512.jpg  \n",
            "  inflating: dance_form/dataset/train/182.jpg  \n",
            "  inflating: dance_form/dataset/train/156.jpg  \n",
            "  inflating: dance_form/dataset/train/289.jpg  \n",
            "  inflating: dance_form/dataset/train/25.jpg  \n",
            "  inflating: dance_form/dataset/train/436.jpg  \n",
            "  inflating: dance_form/dataset/train/93.jpg  \n",
            "  inflating: dance_form/dataset/train/336.jpg  \n",
            "  inflating: dance_form/dataset/train/225.jpg  \n",
            "  inflating: dance_form/dataset/train/298.jpg  \n",
            "  inflating: dance_form/dataset/train/214.jpg  \n",
            "  inflating: dance_form/dataset/train/27.jpg  \n",
            "  inflating: dance_form/dataset/train/342.jpg  \n",
            "  inflating: dance_form/dataset/train/273.jpg  \n",
            "  inflating: dance_form/dataset/train/133.jpg  \n",
            "  inflating: dance_form/dataset/train/168.jpg  \n",
            "  inflating: dance_form/dataset/train/409.jpg  \n",
            "  inflating: dance_form/dataset/train/459.jpg  \n",
            "  inflating: dance_form/dataset/train/31.jpg  \n",
            "  inflating: dance_form/dataset/train/468.jpg  \n",
            "  inflating: dance_form/dataset/train/434.jpg  \n",
            "  inflating: dance_form/dataset/train/312.jpg  \n",
            "  inflating: dance_form/dataset/train/383.jpg  \n",
            "  inflating: dance_form/dataset/train/476.jpg  \n",
            "  inflating: dance_form/dataset/train/334.jpg  \n",
            "  inflating: dance_form/dataset/train/151.jpg  \n",
            "  inflating: dance_form/dataset/train/166.jpg  \n",
            "  inflating: dance_form/dataset/train/227.jpg  \n",
            "  inflating: dance_form/dataset/train/471.jpg  \n",
            "  inflating: dance_form/dataset/train/267.jpg  \n",
            "  inflating: dance_form/dataset/train/100.jpg  \n",
            "  inflating: dance_form/dataset/train/446.jpg  \n",
            "  inflating: dance_form/dataset/train/208.jpg  \n",
            "  inflating: dance_form/dataset/train/293.jpg  \n",
            "  inflating: dance_form/dataset/train/297.jpg  \n",
            "  inflating: dance_form/dataset/train/412.jpg  \n",
            "  inflating: dance_form/dataset/train/58.jpg  \n",
            "  inflating: dance_form/dataset/train/288.jpg  \n",
            "  inflating: dance_form/dataset/train/105.jpg  \n",
            "  inflating: dance_form/dataset/train/477.jpg  \n",
            "  inflating: dance_form/dataset/train/502.jpg  \n",
            "  inflating: dance_form/dataset/train/418.jpg  \n",
            "  inflating: dance_form/dataset/train/233.jpg  \n",
            "  inflating: dance_form/dataset/train/134.jpg  \n",
            "  inflating: dance_form/dataset/train/197.jpg  \n",
            "  inflating: dance_form/dataset/train/245.jpg  \n",
            "  inflating: dance_form/dataset/train/176.jpg  \n",
            "  inflating: dance_form/dataset/train/203.jpg  \n",
            "  inflating: dance_form/dataset/train/247.jpg  \n",
            "  inflating: dance_form/dataset/train/493.jpg  \n",
            "  inflating: dance_form/dataset/train/68.jpg  \n",
            "  inflating: dance_form/dataset/train/442.jpg  \n",
            "  inflating: dance_form/dataset/train/115.jpg  \n",
            "  inflating: dance_form/dataset/train/357.jpg  \n",
            "  inflating: dance_form/dataset/train/389.jpg  \n",
            "  inflating: dance_form/dataset/train/218.jpg  \n",
            "  inflating: dance_form/dataset/train/263.jpg  \n",
            "  inflating: dance_form/dataset/train/184.jpg  \n",
            "  inflating: dance_form/dataset/train/315.jpg  \n",
            "  inflating: dance_form/dataset/train/295.jpg  \n",
            "  inflating: dance_form/dataset/train/42.jpg  \n",
            "  inflating: dance_form/dataset/train/427.jpg  \n",
            "  inflating: dance_form/dataset/train/287.jpg  \n",
            "  inflating: dance_form/dataset/train/430.jpg  \n",
            "  inflating: dance_form/dataset/train/359.jpg  \n",
            "  inflating: dance_form/dataset/train/249.jpg  \n",
            "  inflating: dance_form/dataset/train/54.jpg  \n",
            "  inflating: dance_form/dataset/train/305.jpg  \n",
            "  inflating: dance_form/dataset/train/319.jpg  \n",
            "  inflating: dance_form/dataset/train/496.jpg  \n",
            "  inflating: dance_form/dataset/train/60.jpg  \n",
            "  inflating: dance_form/dataset/train/37.jpg  \n",
            "  inflating: dance_form/dataset/train/192.jpg  \n",
            "  inflating: dance_form/dataset/train/304.jpg  \n",
            "  inflating: dance_form/dataset/train/258.jpg  \n",
            "  inflating: dance_form/dataset/train/364.jpg  \n",
            "  inflating: dance_form/dataset/train/49.jpg  \n",
            "  inflating: dance_form/dataset/train/144.jpg  \n",
            "  inflating: dance_form/dataset/train/7.jpg  \n",
            "  inflating: dance_form/dataset/train/98.jpg  \n",
            "  inflating: dance_form/dataset/train/223.jpg  \n",
            "  inflating: dance_form/dataset/train/320.jpg  \n",
            "  inflating: dance_form/dataset/train/70.jpg  \n",
            "  inflating: dance_form/dataset/train/426.jpg  \n",
            "  inflating: dance_form/dataset/train/84.jpg  \n",
            "  inflating: dance_form/dataset/train/44.jpg  \n",
            "  inflating: dance_form/dataset/train/177.jpg  \n",
            "  inflating: dance_form/dataset/train/50.jpg  \n",
            "  inflating: dance_form/dataset/train/417.jpg  \n",
            "  inflating: dance_form/dataset/train/191.jpg  \n",
            "  inflating: dance_form/dataset/train/221.jpg  \n",
            "  inflating: dance_form/dataset/train/500.jpg  \n",
            "  inflating: dance_form/dataset/train/428.jpg  \n",
            "  inflating: dance_form/dataset/train/137.jpg  \n",
            "  inflating: dance_form/dataset/train/195.jpg  \n",
            "  inflating: dance_form/dataset/train/413.jpg  \n",
            "  inflating: dance_form/dataset/train/228.jpg  \n",
            "  inflating: dance_form/dataset/train/478.jpg  \n",
            "  inflating: dance_form/dataset/train/123.jpg  \n",
            "  inflating: dance_form/dataset/train/369.jpg  \n",
            "  inflating: dance_form/dataset/train/328.jpg  \n",
            "  inflating: dance_form/dataset/train/1.jpg  \n",
            "  inflating: dance_form/dataset/train/126.jpg  \n",
            "  inflating: dance_form/dataset/train/503.jpg  \n",
            "  inflating: dance_form/dataset/train/352.jpg  \n",
            "  inflating: dance_form/dataset/train/120.jpg  \n",
            "  inflating: dance_form/dataset/train/452.jpg  \n",
            "  inflating: dance_form/dataset/train/339.jpg  \n",
            "  inflating: dance_form/dataset/train/266.jpg  \n",
            "  inflating: dance_form/dataset/train/201.jpg  \n",
            "  inflating: dance_form/dataset/train/229.jpg  \n",
            "  inflating: dance_form/dataset/train/402.jpg  \n",
            "  inflating: dance_form/dataset/train/381.jpg  \n",
            "  inflating: dance_form/dataset/train/449.jpg  \n",
            "  inflating: dance_form/dataset/train/107.jpg  \n",
            "  inflating: dance_form/dataset/train/444.jpg  \n",
            "  inflating: dance_form/dataset/train/327.jpg  \n",
            "  inflating: dance_form/dataset/train/8.jpg  \n",
            "  inflating: dance_form/dataset/train/451.jpg  \n",
            "  inflating: dance_form/dataset/train/77.jpg  \n",
            "  inflating: dance_form/dataset/train/148.jpg  \n",
            "  inflating: dance_form/dataset/train/399.jpg  \n",
            "  inflating: dance_form/dataset/train/130.jpg  \n",
            "  inflating: dance_form/dataset/train/362.jpg  \n",
            "  inflating: dance_form/dataset/train/310.jpg  \n",
            "  inflating: dance_form/dataset/train/79.jpg  \n",
            "  inflating: dance_form/dataset/train/127.jpg  \n",
            "  inflating: dance_form/dataset/train/237.jpg  \n",
            "  inflating: dance_form/dataset/train/257.jpg  \n",
            "  inflating: dance_form/dataset/train/160.jpg  \n",
            "  inflating: dance_form/dataset/train/52.jpg  \n",
            "  inflating: dance_form/dataset/train/190.jpg  \n",
            "  inflating: dance_form/dataset/train/382.jpg  \n",
            "  inflating: dance_form/dataset/train/143.jpg  \n",
            "  inflating: dance_form/dataset/train/199.jpg  \n",
            "  inflating: dance_form/dataset/train/282.jpg  \n",
            "  inflating: dance_form/dataset/train/207.jpg  \n",
            "  inflating: dance_form/dataset/train/403.jpg  \n",
            "  inflating: dance_form/dataset/train/337.jpg  \n",
            "  inflating: dance_form/dataset/train/355.jpg  \n",
            "  inflating: dance_form/dataset/train/251.jpg  \n",
            "  inflating: dance_form/dataset/train/188.jpg  \n",
            "  inflating: dance_form/dataset/train/338.jpg  \n",
            "  inflating: dance_form/dataset/train/341.jpg  \n",
            "  inflating: dance_form/dataset/train/433.jpg  \n",
            "  inflating: dance_form/dataset/train/69.jpg  \n",
            "  inflating: dance_form/dataset/train/236.jpg  \n",
            "  inflating: dance_form/dataset/train/106.jpg  \n",
            "  inflating: dance_form/dataset/train/99.jpg  \n",
            "  inflating: dance_form/dataset/train/179.jpg  \n",
            "  inflating: dance_form/dataset/train/204.jpg  \n",
            "  inflating: dance_form/dataset/train/300.jpg  \n",
            "  inflating: dance_form/dataset/train/432.jpg  \n",
            "  inflating: dance_form/dataset/train/490.jpg  \n",
            "  inflating: dance_form/dataset/train/368.jpg  \n",
            "  inflating: dance_form/dataset/train/153.jpg  \n",
            "  inflating: dance_form/dataset/train/174.jpg  \n",
            "  inflating: dance_form/dataset/train/51.jpg  \n",
            "  inflating: dance_form/dataset/train/62.jpg  \n",
            "  inflating: dance_form/dataset/train/420.jpg  \n",
            "  inflating: dance_form/dataset/train/75.jpg  \n",
            "  inflating: dance_form/dataset/train/230.jpg  \n",
            "  inflating: dance_form/dataset/train/307.jpg  \n",
            "  inflating: dance_form/dataset/train/212.jpg  \n",
            "  inflating: dance_form/dataset/train/209.jpg  \n",
            "  inflating: dance_form/dataset/train/415.jpg  \n",
            "  inflating: dance_form/dataset/train/491.jpg  \n",
            "  inflating: dance_form/dataset/train/453.jpg  \n",
            "  inflating: dance_form/dataset/train/351.jpg  \n",
            "  inflating: dance_form/dataset/train/111.jpg  \n",
            "  inflating: dance_form/dataset/train/391.jpg  \n",
            "  inflating: dance_form/dataset/train/515.jpg  \n",
            "  inflating: dance_form/dataset/train/65.jpg  \n",
            "  inflating: dance_form/dataset/train/240.jpg  \n",
            "  inflating: dance_form/dataset/train/91.jpg  \n",
            "  inflating: dance_form/dataset/train/222.jpg  \n",
            "  inflating: dance_form/dataset/train/53.jpg  \n",
            "  inflating: dance_form/dataset/train/158.jpg  \n",
            "  inflating: dance_form/dataset/train/475.jpg  \n",
            "  inflating: dance_form/dataset/train/121.jpg  \n",
            "  inflating: dance_form/dataset/train/396.jpg  \n",
            "  inflating: dance_form/dataset/train/63.jpg  \n",
            "  inflating: dance_form/dataset/train/268.jpg  \n",
            "  inflating: dance_form/dataset/train/78.jpg  \n",
            "  inflating: dance_form/dataset/train/167.jpg  \n",
            "  inflating: dance_form/dataset/train/250.jpg  \n",
            "  inflating: dance_form/dataset/train/454.jpg  \n",
            "  inflating: dance_form/dataset/train/186.jpg  \n",
            "  inflating: dance_form/dataset/train/499.jpg  \n",
            "  inflating: dance_form/dataset/train/101.jpg  \n",
            "  inflating: dance_form/dataset/train/435.jpg  \n",
            "  inflating: dance_form/dataset/train/469.jpg  \n",
            "  inflating: dance_form/dataset/train/139.jpg  \n",
            "  inflating: dance_form/dataset/train/83.jpg  \n",
            "  inflating: dance_form/dataset/train/43.jpg  \n",
            "  inflating: dance_form/dataset/train/281.jpg  \n",
            "  inflating: dance_form/dataset/train/36.jpg  \n",
            "  inflating: dance_form/dataset/train/419.jpg  \n",
            "  inflating: dance_form/dataset/train/66.jpg  \n",
            "  inflating: dance_form/dataset/train/260.jpg  \n",
            "  inflating: dance_form/dataset/train/466.jpg  \n",
            "  inflating: dance_form/dataset/train/140.jpg  \n",
            "  inflating: dance_form/dataset/train/5.jpg  \n",
            "  inflating: dance_form/dataset/train/10.jpg  \n",
            "  inflating: dance_form/dataset/train/235.jpg  \n",
            "  inflating: dance_form/dataset/train/511.jpg  \n",
            "  inflating: dance_form/dataset/train/72.jpg  \n",
            "  inflating: dance_form/dataset/train/253.jpg  \n",
            "  inflating: dance_form/dataset/train/404.jpg  \n",
            "  inflating: dance_form/dataset/train/89.jpg  \n",
            "  inflating: dance_form/dataset/train/311.jpg  \n",
            "  inflating: dance_form/dataset/test.csv  \n",
            "  inflating: dance_form/dataset/train.csv  \n"
          ],
          "name": "stdout"
        }
      ]
    },
    {
      "cell_type": "code",
      "metadata": {
        "id": "vO2_YbPl_vtO",
        "colab_type": "code",
        "colab": {}
      },
      "source": [
        "import numpy as np\n",
        "import pandas as pd\n",
        "from sklearn.model_selection import train_test_split\n",
        "from tqdm import tqdm \n",
        "import os\n",
        "import tensorflow as tf"
      ],
      "execution_count": 3,
      "outputs": []
    },
    {
      "cell_type": "code",
      "metadata": {
        "id": "ysZlw7MVBTva",
        "colab_type": "code",
        "colab": {}
      },
      "source": [
        "train = pd.read_csv('dance_form/dataset/train.csv')"
      ],
      "execution_count": 4,
      "outputs": []
    },
    {
      "cell_type": "code",
      "metadata": {
        "id": "liWVgZzrBwIu",
        "colab_type": "code",
        "colab": {}
      },
      "source": [
        "train_images = r'dance_form/dataset/train'"
      ],
      "execution_count": 5,
      "outputs": []
    },
    {
      "cell_type": "code",
      "metadata": {
        "id": "KHFenRTmBxIz",
        "colab_type": "code",
        "colab": {
          "base_uri": "https://localhost:8080/",
          "height": 34
        },
        "outputId": "d1bd8cbe-990f-4014-fac9-38702c9d215b"
      },
      "source": [
        "train_image = list()\n",
        "for i in tqdm(range(train.shape[0])):\n",
        "    image_name = train.iloc[i].Image\n",
        "    image_path = os.path.join(train_images,image_name)\n",
        "    image = tf.keras.preprocessing.image.load_img(image_path,target_size=(150,150,3))\n",
        "    image_array = tf.keras.preprocessing.image.img_to_array(image)\n",
        "    image_array = image_array/255.0\n",
        "    train_image.append(image_array)\n",
        "    \n",
        "X = np.array(train_image)"
      ],
      "execution_count": 6,
      "outputs": [
        {
          "output_type": "stream",
          "text": [
            "100%|██████████| 364/364 [00:02<00:00, 151.52it/s]\n"
          ],
          "name": "stderr"
        }
      ]
    },
    {
      "cell_type": "code",
      "metadata": {
        "id": "Z0Fm2DveCIMy",
        "colab_type": "code",
        "colab": {
          "base_uri": "https://localhost:8080/",
          "height": 34
        },
        "outputId": "adbc7e50-a038-404e-e915-3de1b4ec5085"
      },
      "source": [
        "X.shape"
      ],
      "execution_count": 7,
      "outputs": [
        {
          "output_type": "execute_result",
          "data": {
            "text/plain": [
              "(364, 150, 150, 3)"
            ]
          },
          "metadata": {
            "tags": []
          },
          "execution_count": 7
        }
      ]
    },
    {
      "cell_type": "code",
      "metadata": {
        "id": "-A2Xpkm8CQRZ",
        "colab_type": "code",
        "colab": {}
      },
      "source": [
        "y = train['target']"
      ],
      "execution_count": 8,
      "outputs": []
    },
    {
      "cell_type": "code",
      "metadata": {
        "id": "cVCkhLwYCUkn",
        "colab_type": "code",
        "colab": {}
      },
      "source": [
        "from sklearn.preprocessing import LabelEncoder\n",
        "encoder = LabelEncoder()\n",
        "y = encoder.fit_transform(y)"
      ],
      "execution_count": 9,
      "outputs": []
    },
    {
      "cell_type": "code",
      "metadata": {
        "id": "ks2Bs4xPCXH-",
        "colab_type": "code",
        "colab": {}
      },
      "source": [
        "forms = encoder.classes_"
      ],
      "execution_count": 10,
      "outputs": []
    },
    {
      "cell_type": "code",
      "metadata": {
        "id": "JICpjiRILhPb",
        "colab_type": "code",
        "colab": {}
      },
      "source": [
        "X_train,X_val,y_train,y_val = train_test_split(X,y,random_state=42,test_size=0.3)"
      ],
      "execution_count": 11,
      "outputs": []
    },
    {
      "cell_type": "code",
      "metadata": {
        "id": "hNZRs9bpKPEe",
        "colab_type": "code",
        "colab": {}
      },
      "source": [
        "# from tensorflow.keras.preprocessing.image import ImageDataGenerator"
      ],
      "execution_count": 12,
      "outputs": []
    },
    {
      "cell_type": "code",
      "metadata": {
        "id": "CicoAlTaKfgE",
        "colab_type": "code",
        "colab": {}
      },
      "source": [
        "# datagen_train = ImageDataGenerator(\n",
        "#     rescale=1./255,\n",
        "#     featurewise_center=True,\n",
        "#     featurewise_std_normalization=True,\n",
        "#     rotation_range=20,\n",
        "#     width_shift_range=0.2,\n",
        "#     height_shift_range=0.2,\n",
        "#     horizontal_flip=True)\n",
        "\n",
        "\n",
        "# datagen_val = ImageDataGenerator(\n",
        "#     rescale=1./255,\n",
        "#     featurewise_center=True,\n",
        "#     featurewise_std_normalization=True)"
      ],
      "execution_count": 13,
      "outputs": []
    },
    {
      "cell_type": "code",
      "metadata": {
        "id": "NcyoLGaPK8Sk",
        "colab_type": "code",
        "colab": {}
      },
      "source": [
        "# train_data = datagen_train.flow(X_train, y_train, batch_size=32)\n",
        "# val_data =  datagen_train.flow(X_val, y_val, batch_size=32)"
      ],
      "execution_count": 14,
      "outputs": []
    },
    {
      "cell_type": "code",
      "metadata": {
        "id": "zoTezidACsC0",
        "colab_type": "code",
        "colab": {}
      },
      "source": [
        ""
      ],
      "execution_count": 14,
      "outputs": []
    },
    {
      "cell_type": "code",
      "metadata": {
        "id": "CW6XJzB4KNyB",
        "colab_type": "code",
        "colab": {}
      },
      "source": [
        ""
      ],
      "execution_count": 14,
      "outputs": []
    },
    {
      "cell_type": "code",
      "metadata": {
        "id": "2SB0E4FvEGE5",
        "colab_type": "code",
        "colab": {}
      },
      "source": [
        "# train_data = tf.data.Dataset.from_tensor_slices((X_train, y_train))\n",
        "# val_data = tf.data.Dataset.from_tensor_slices((X_val, y_val))\n",
        "train_data = tf.data.Dataset.from_tensor_slices((X, y))\n"
      ],
      "execution_count": 15,
      "outputs": []
    },
    {
      "cell_type": "code",
      "metadata": {
        "id": "imPjG0ZlI_d7",
        "colab_type": "code",
        "colab": {
          "base_uri": "https://localhost:8080/",
          "height": 34
        },
        "outputId": "bf2a0d5f-3b91-4d8e-dd83-f13b837c7e88"
      },
      "source": [
        "train_data"
      ],
      "execution_count": 16,
      "outputs": [
        {
          "output_type": "execute_result",
          "data": {
            "text/plain": [
              "<TensorSliceDataset shapes: ((150, 150, 3), ()), types: (tf.float32, tf.int64)>"
            ]
          },
          "metadata": {
            "tags": []
          },
          "execution_count": 16
        }
      ]
    },
    {
      "cell_type": "code",
      "metadata": {
        "id": "lMDgbTLiJFRY",
        "colab_type": "code",
        "colab": {}
      },
      "source": [
        "BATCH_SIZE = 64\n",
        "SHUFFLE_BUFFER_SIZE = 100\n",
        "train_data = train_data.shuffle(SHUFFLE_BUFFER_SIZE).batch(BATCH_SIZE)\n",
        "# val_data = val_data.batch(BATCH_SIZE)"
      ],
      "execution_count": 17,
      "outputs": []
    },
    {
      "cell_type": "code",
      "metadata": {
        "id": "msrE_zPmC2c_",
        "colab_type": "code",
        "colab": {}
      },
      "source": [
        "model = tf.keras.models.Sequential([\n",
        "            tf.keras.layers.Conv2D(32,padding=\"same\",strides=2, kernel_size=(3, 3),activation='relu',input_shape=(150,150,3)),\n",
        "            tf.keras.layers.MaxPooling2D(pool_size=(2,2)),\n",
        "            tf.keras.layers.Conv2D(64,padding=\"same\",strides=2,kernel_size=(2,2),activation='relu'),\n",
        "            tf.keras.layers.MaxPooling2D(pool_size=(2,2)),\n",
        "            # tf.keras.layers.Dropout(0.2),\n",
        "            tf.keras.layers.Flatten(),\n",
        "            tf.keras.layers.Dense(256,activation='relu'),\n",
        "            # tf.keras.layers.Dense(256,activation='relu'),\n",
        "            tf.keras.layers.Dropout(0.2),\n",
        "            tf.keras.layers.Dense(8,activation='softmax')\n",
        "])"
      ],
      "execution_count": 18,
      "outputs": []
    },
    {
      "cell_type": "code",
      "metadata": {
        "id": "XM_gFHwfC67e",
        "colab_type": "code",
        "colab": {
          "base_uri": "https://localhost:8080/",
          "height": 425
        },
        "outputId": "ffa4873a-0eea-4a1c-a402-4055457cecbe"
      },
      "source": [
        "model.summary()"
      ],
      "execution_count": 19,
      "outputs": [
        {
          "output_type": "stream",
          "text": [
            "Model: \"sequential\"\n",
            "_________________________________________________________________\n",
            "Layer (type)                 Output Shape              Param #   \n",
            "=================================================================\n",
            "conv2d (Conv2D)              (None, 75, 75, 32)        896       \n",
            "_________________________________________________________________\n",
            "max_pooling2d (MaxPooling2D) (None, 37, 37, 32)        0         \n",
            "_________________________________________________________________\n",
            "conv2d_1 (Conv2D)            (None, 19, 19, 64)        8256      \n",
            "_________________________________________________________________\n",
            "max_pooling2d_1 (MaxPooling2 (None, 9, 9, 64)          0         \n",
            "_________________________________________________________________\n",
            "flatten (Flatten)            (None, 5184)              0         \n",
            "_________________________________________________________________\n",
            "dense (Dense)                (None, 256)               1327360   \n",
            "_________________________________________________________________\n",
            "dropout (Dropout)            (None, 256)               0         \n",
            "_________________________________________________________________\n",
            "dense_1 (Dense)              (None, 8)                 2056      \n",
            "=================================================================\n",
            "Total params: 1,338,568\n",
            "Trainable params: 1,338,568\n",
            "Non-trainable params: 0\n",
            "_________________________________________________________________\n"
          ],
          "name": "stdout"
        }
      ]
    },
    {
      "cell_type": "code",
      "metadata": {
        "id": "IMFhKD5BDE8d",
        "colab_type": "code",
        "colab": {}
      },
      "source": [
        "model.compile(optimizer='adam',\n",
        "              loss=tf.keras.losses.SparseCategoricalCrossentropy(from_logits=True),\n",
        "              metrics=['accuracy'])"
      ],
      "execution_count": 20,
      "outputs": []
    },
    {
      "cell_type": "code",
      "metadata": {
        "id": "Mfm07gBcDN-O",
        "colab_type": "code",
        "colab": {
          "base_uri": "https://localhost:8080/",
          "height": 1000
        },
        "outputId": "5108086f-1bff-48b5-9d73-410e8f122ca7"
      },
      "source": [
        "history = model.fit(train_data,epochs=30)"
      ],
      "execution_count": 21,
      "outputs": [
        {
          "output_type": "stream",
          "text": [
            "Epoch 1/30\n",
            "6/6 [==============================] - 1s 191ms/step - loss: 2.0782 - accuracy: 0.1511\n",
            "Epoch 2/30\n",
            "6/6 [==============================] - 1s 190ms/step - loss: 2.0309 - accuracy: 0.1951\n",
            "Epoch 3/30\n",
            "6/6 [==============================] - 1s 202ms/step - loss: 1.9771 - accuracy: 0.3462\n",
            "Epoch 4/30\n",
            "6/6 [==============================] - 1s 191ms/step - loss: 1.9107 - accuracy: 0.4121\n",
            "Epoch 5/30\n",
            "6/6 [==============================] - 1s 192ms/step - loss: 1.8652 - accuracy: 0.4341\n",
            "Epoch 6/30\n",
            "6/6 [==============================] - 1s 192ms/step - loss: 1.8324 - accuracy: 0.4780\n",
            "Epoch 7/30\n",
            "6/6 [==============================] - 1s 191ms/step - loss: 1.8207 - accuracy: 0.4643\n",
            "Epoch 8/30\n",
            "6/6 [==============================] - 1s 195ms/step - loss: 1.7631 - accuracy: 0.5467\n",
            "Epoch 9/30\n",
            "6/6 [==============================] - 1s 192ms/step - loss: 1.7323 - accuracy: 0.5632\n",
            "Epoch 10/30\n",
            "6/6 [==============================] - 1s 194ms/step - loss: 1.6913 - accuracy: 0.6099\n",
            "Epoch 11/30\n",
            "6/6 [==============================] - 1s 190ms/step - loss: 1.6662 - accuracy: 0.6648\n",
            "Epoch 12/30\n",
            "6/6 [==============================] - 1s 191ms/step - loss: 1.6398 - accuracy: 0.6648\n",
            "Epoch 13/30\n",
            "6/6 [==============================] - 1s 191ms/step - loss: 1.5678 - accuracy: 0.7610\n",
            "Epoch 14/30\n",
            "6/6 [==============================] - 1s 193ms/step - loss: 1.5522 - accuracy: 0.7637\n",
            "Epoch 15/30\n",
            "6/6 [==============================] - 1s 191ms/step - loss: 1.5189 - accuracy: 0.7885\n",
            "Epoch 16/30\n",
            "6/6 [==============================] - 1s 194ms/step - loss: 1.5113 - accuracy: 0.7885\n",
            "Epoch 17/30\n",
            "6/6 [==============================] - 1s 200ms/step - loss: 1.4721 - accuracy: 0.8379\n",
            "Epoch 18/30\n",
            "6/6 [==============================] - 1s 196ms/step - loss: 1.4633 - accuracy: 0.8407\n",
            "Epoch 19/30\n",
            "6/6 [==============================] - 1s 194ms/step - loss: 1.4560 - accuracy: 0.8407\n",
            "Epoch 20/30\n",
            "6/6 [==============================] - 1s 192ms/step - loss: 1.4472 - accuracy: 0.8462\n",
            "Epoch 21/30\n",
            "6/6 [==============================] - 1s 193ms/step - loss: 1.4290 - accuracy: 0.8626\n",
            "Epoch 22/30\n",
            "6/6 [==============================] - 1s 192ms/step - loss: 1.4234 - accuracy: 0.8709\n",
            "Epoch 23/30\n",
            "6/6 [==============================] - 1s 191ms/step - loss: 1.4130 - accuracy: 0.8791\n",
            "Epoch 24/30\n",
            "6/6 [==============================] - 1s 201ms/step - loss: 1.4054 - accuracy: 0.8819\n",
            "Epoch 25/30\n",
            "6/6 [==============================] - 1s 193ms/step - loss: 1.4099 - accuracy: 0.8791\n",
            "Epoch 26/30\n",
            "6/6 [==============================] - 1s 191ms/step - loss: 1.3938 - accuracy: 0.8901\n",
            "Epoch 27/30\n",
            "6/6 [==============================] - 1s 194ms/step - loss: 1.3890 - accuracy: 0.8901\n",
            "Epoch 28/30\n",
            "6/6 [==============================] - 1s 197ms/step - loss: 1.3855 - accuracy: 0.8956\n",
            "Epoch 29/30\n",
            "6/6 [==============================] - 1s 194ms/step - loss: 1.3826 - accuracy: 0.8984\n",
            "Epoch 30/30\n",
            "6/6 [==============================] - 1s 192ms/step - loss: 1.3783 - accuracy: 0.9011\n"
          ],
          "name": "stdout"
        }
      ]
    },
    {
      "cell_type": "code",
      "metadata": {
        "id": "Kb-NDHAXDVUt",
        "colab_type": "code",
        "colab": {}
      },
      "source": [
        "test = pd.read_csv('dance_form/dataset/test.csv')"
      ],
      "execution_count": 22,
      "outputs": []
    },
    {
      "cell_type": "code",
      "metadata": {
        "id": "LSC1RyCPqWoi",
        "colab_type": "code",
        "colab": {}
      },
      "source": [
        "test_images = r'dance_form/dataset/test'"
      ],
      "execution_count": 23,
      "outputs": []
    },
    {
      "cell_type": "code",
      "metadata": {
        "id": "HreD_YSMqCjR",
        "colab_type": "code",
        "colab": {
          "base_uri": "https://localhost:8080/",
          "height": 34
        },
        "outputId": "4e96d28e-0ff7-4755-fd8b-7496fe3174c6"
      },
      "source": [
        "test_image = list()\n",
        "for i in tqdm(range(test.shape[0])):\n",
        "    image_name = test.iloc[i].Image\n",
        "    image_path = os.path.join(test_images,image_name)\n",
        "    image = tf.keras.preprocessing.image.load_img(image_path,target_size=(150,150,3))\n",
        "    image_array = tf.keras.preprocessing.image.img_to_array(image)\n",
        "    image_array = image_array/255.0\n",
        "    test_image.append(image_array)\n",
        "    \n",
        "X_test = np.array(test_image)"
      ],
      "execution_count": 25,
      "outputs": [
        {
          "output_type": "stream",
          "text": [
            "100%|██████████| 156/156 [00:01<00:00, 142.56it/s]\n"
          ],
          "name": "stderr"
        }
      ]
    },
    {
      "cell_type": "code",
      "metadata": {
        "id": "ew5NOVJaqDJB",
        "colab_type": "code",
        "colab": {
          "base_uri": "https://localhost:8080/",
          "height": 88
        },
        "outputId": "1b7bf2fd-4b30-4caa-e095-f28ae1f8c01a"
      },
      "source": [
        "y_test = model.predict_classes(X_test)"
      ],
      "execution_count": 30,
      "outputs": [
        {
          "output_type": "stream",
          "text": [
            "WARNING:tensorflow:From <ipython-input-30-976fefeebcd5>:1: Sequential.predict_classes (from tensorflow.python.keras.engine.sequential) is deprecated and will be removed after 2021-01-01.\n",
            "Instructions for updating:\n",
            "Please use instead:* `np.argmax(model.predict(x), axis=-1)`,   if your model does multi-class classification   (e.g. if it uses a `softmax` last-layer activation).* `(model.predict(x) > 0.5).astype(\"int32\")`,   if your model does binary classification   (e.g. if it uses a `sigmoid` last-layer activation).\n"
          ],
          "name": "stdout"
        }
      ]
    },
    {
      "cell_type": "code",
      "metadata": {
        "id": "XdExMyMSrIcN",
        "colab_type": "code",
        "colab": {}
      },
      "source": [
        "y_test_label = encoder.inverse_transform(y_test)"
      ],
      "execution_count": 32,
      "outputs": []
    },
    {
      "cell_type": "code",
      "metadata": {
        "id": "FfWRjXPTrLJg",
        "colab_type": "code",
        "colab": {
          "base_uri": "https://localhost:8080/",
          "height": 34
        },
        "outputId": "4caaf431-d829-418b-ec95-18faf2c1512e"
      },
      "source": [
        "y_test_label"
      ],
      "execution_count": 34,
      "outputs": [
        {
          "output_type": "execute_result",
          "data": {
            "text/plain": [
              "156"
            ]
          },
          "metadata": {
            "tags": []
          },
          "execution_count": 34
        }
      ]
    },
    {
      "cell_type": "code",
      "metadata": {
        "id": "GmjnRCHfrkiV",
        "colab_type": "code",
        "colab": {}
      },
      "source": [
        "test['target'] = y_test_label"
      ],
      "execution_count": 36,
      "outputs": []
    },
    {
      "cell_type": "code",
      "metadata": {
        "id": "uAnv0s79rvfS",
        "colab_type": "code",
        "colab": {}
      },
      "source": [
        "test.to_csv('prediction.csv')"
      ],
      "execution_count": 38,
      "outputs": []
    },
    {
      "cell_type": "code",
      "metadata": {
        "id": "N2ambaGhr00a",
        "colab_type": "code",
        "colab": {}
      },
      "source": [
        ""
      ],
      "execution_count": null,
      "outputs": []
    }
  ]
}