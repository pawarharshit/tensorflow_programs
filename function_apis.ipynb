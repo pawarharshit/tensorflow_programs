{
  "nbformat": 4,
  "nbformat_minor": 0,
  "metadata": {
    "colab": {
      "name": "function_apis.ipynb",
      "provenance": [],
      "authorship_tag": "ABX9TyNFBYM9dOK1byfHnMrk5Vqi",
      "include_colab_link": true
    },
    "kernelspec": {
      "name": "python3",
      "display_name": "Python 3"
    }
  },
  "cells": [
    {
      "cell_type": "markdown",
      "metadata": {
        "id": "view-in-github",
        "colab_type": "text"
      },
      "source": [
        "<a href=\"https://colab.research.google.com/github/pawarharshit/tensorflow_programs/blob/master/function_apis.ipynb\" target=\"_parent\"><img src=\"https://colab.research.google.com/assets/colab-badge.svg\" alt=\"Open In Colab\"/></a>"
      ]
    },
    {
      "cell_type": "code",
      "metadata": {
        "id": "3PHy0kSfzrLB",
        "colab_type": "code",
        "colab": {}
      },
      "source": [
        "from sklearn.datasets import fetch_california_housing\n",
        "from sklearn.model_selection import train_test_split\n",
        "from sklearn.preprocessing import StandardScaler"
      ],
      "execution_count": 0,
      "outputs": []
    },
    {
      "cell_type": "code",
      "metadata": {
        "id": "PISoaBiA0mX_",
        "colab_type": "code",
        "colab": {
          "base_uri": "https://localhost:8080/",
          "height": 34
        },
        "outputId": "0389fc36-7a77-48b0-d063-8a4d68e3fe2d"
      },
      "source": [
        "housing = fetch_california_housing()\n",
        "X_train_full,X_test,y_train_full,y_test = train_test_split(housing.data,housing.target)"
      ],
      "execution_count": 2,
      "outputs": [
        {
          "output_type": "stream",
          "text": [
            "Downloading Cal. housing from https://ndownloader.figshare.com/files/5976036 to /root/scikit_learn_data\n"
          ],
          "name": "stderr"
        }
      ]
    },
    {
      "cell_type": "code",
      "metadata": {
        "id": "kMviIks-02to",
        "colab_type": "code",
        "colab": {}
      },
      "source": [
        "X_train,X_val,y_train,y_val = train_test_split(X_train_full,y_train_full)"
      ],
      "execution_count": 0,
      "outputs": []
    },
    {
      "cell_type": "code",
      "metadata": {
        "id": "9K0GlNwi1Ks2",
        "colab_type": "code",
        "colab": {}
      },
      "source": [
        "scaler = StandardScaler()\n",
        "X_train = scaler.fit_transform(X_train)\n",
        "X_val = scaler.transform(X_val)\n",
        "X_test = scaler.transform(X_test)"
      ],
      "execution_count": 0,
      "outputs": []
    },
    {
      "cell_type": "code",
      "metadata": {
        "id": "EDdj_X921PiL",
        "colab_type": "code",
        "colab": {
          "base_uri": "https://localhost:8080/",
          "height": 714
        },
        "outputId": "049254b7-1587-4f73-f40f-a219eeca1dfc"
      },
      "source": [
        "from tensorflow import keras\n",
        "model = keras.models.Sequential([\n",
        "                                 keras.layers.Dense(30, activation=\"relu\",input_shape=X_train.shape[1:]),\n",
        "                                 keras.layers.Dense(1)\n",
        "                                ])\n",
        "model.compile(loss=\"mean_squared_error\", optimizer=\"sgd\")\n",
        "history = model.fit(X_train, y_train, epochs=20,validation_data=(X_val, y_val))\n",
        "mse_test = model.evaluate(X_test, y_test)\n",
        "X_new = X_test[:3] # pretend these are new instances\n",
        "y_pred = model.predict(X_new)"
      ],
      "execution_count": 7,
      "outputs": [
        {
          "output_type": "stream",
          "text": [
            "Epoch 1/20\n",
            "363/363 [==============================] - 1s 2ms/step - loss: 0.8469 - val_loss: 3.1894\n",
            "Epoch 2/20\n",
            "363/363 [==============================] - 1s 1ms/step - loss: 0.5808 - val_loss: 1.3970\n",
            "Epoch 3/20\n",
            "363/363 [==============================] - 0s 1ms/step - loss: 0.4519 - val_loss: 0.4581\n",
            "Epoch 4/20\n",
            "363/363 [==============================] - 1s 1ms/step - loss: 0.4240 - val_loss: 0.4749\n",
            "Epoch 5/20\n",
            "363/363 [==============================] - 0s 1ms/step - loss: 0.4135 - val_loss: 0.4123\n",
            "Epoch 6/20\n",
            "363/363 [==============================] - 0s 1ms/step - loss: 0.4014 - val_loss: 0.4369\n",
            "Epoch 7/20\n",
            "363/363 [==============================] - 0s 1ms/step - loss: 0.3930 - val_loss: 0.3911\n",
            "Epoch 8/20\n",
            "363/363 [==============================] - 1s 1ms/step - loss: 0.3854 - val_loss: 0.4020\n",
            "Epoch 9/20\n",
            "363/363 [==============================] - 0s 1ms/step - loss: 0.3831 - val_loss: 0.4200\n",
            "Epoch 10/20\n",
            "363/363 [==============================] - 1s 1ms/step - loss: 0.3774 - val_loss: 0.3839\n",
            "Epoch 11/20\n",
            "363/363 [==============================] - 1s 1ms/step - loss: 0.3743 - val_loss: 0.3884\n",
            "Epoch 12/20\n",
            "363/363 [==============================] - 1s 1ms/step - loss: 0.3711 - val_loss: 0.3937\n",
            "Epoch 13/20\n",
            "363/363 [==============================] - 0s 1ms/step - loss: 0.3678 - val_loss: 0.3936\n",
            "Epoch 14/20\n",
            "363/363 [==============================] - 0s 1ms/step - loss: 0.3657 - val_loss: 0.4307\n",
            "Epoch 15/20\n",
            "363/363 [==============================] - 0s 1ms/step - loss: 0.3645 - val_loss: 0.3652\n",
            "Epoch 16/20\n",
            "363/363 [==============================] - 0s 1ms/step - loss: 0.3618 - val_loss: 0.3665\n",
            "Epoch 17/20\n",
            "363/363 [==============================] - 0s 1ms/step - loss: 0.3580 - val_loss: 0.4408\n",
            "Epoch 18/20\n",
            "363/363 [==============================] - 0s 1ms/step - loss: 0.3564 - val_loss: 0.7618\n",
            "Epoch 19/20\n",
            "363/363 [==============================] - 0s 1ms/step - loss: 0.4170 - val_loss: 0.4379\n",
            "Epoch 20/20\n",
            "363/363 [==============================] - 0s 1ms/step - loss: 0.3604 - val_loss: 0.4492\n",
            "162/162 [==============================] - 0s 912us/step - loss: 0.3545\n"
          ],
          "name": "stdout"
        }
      ]
    },
    {
      "cell_type": "code",
      "metadata": {
        "id": "yJ9-9AbP1gkz",
        "colab_type": "code",
        "colab": {
          "base_uri": "https://localhost:8080/",
          "height": 299
        },
        "outputId": "6782de84-981c-4054-8396-481337567542"
      },
      "source": [
        "import pandas as pd\n",
        "import matplotlib.pyplot as plt\n",
        "\n",
        "pd.DataFrame(history.history).plot()"
      ],
      "execution_count": 12,
      "outputs": [
        {
          "output_type": "execute_result",
          "data": {
            "text/plain": [
              "<matplotlib.axes._subplots.AxesSubplot at 0x7ff8164b82b0>"
            ]
          },
          "metadata": {
            "tags": []
          },
          "execution_count": 12
        },
        {
          "output_type": "display_data",
          "data": {
            "text/plain": [
              "<Figure size 720x576 with 0 Axes>"
            ]
          },
          "metadata": {
            "tags": []
          }
        },
        {
          "output_type": "display_data",
          "data": {
            "image/png": "[encoded data removed]",
            "text/plain": [
              "<Figure size 432x288 with 1 Axes>"
            ]
          },
          "metadata": {
            "tags": [],
            "needs_background": "light"
          }
        }
      ]
    },
    {
      "cell_type": "markdown",
      "metadata": {
        "id": "kr9lKvwu2p1e",
        "colab_type": "text"
      },
      "source": [
        "Building Complex Models Using the Functional **API**"
      ]
    },
    {
      "cell_type": "code",
      "metadata": {
        "id": "L_4blHhK2CKn",
        "colab_type": "code",
        "colab": {}
      },
      "source": [
        "input_ = keras.layers.Input(shape=X_train.shape[1:])\n",
        "hidden1 = keras.layers.Dense(30,activation=keras.activations.relu)(input_)\n",
        "hidden2 = keras.layers.Dense(30,activation=keras.activations.relu)(hidden1)\n",
        "concat = keras.layers.Concatenate()([input_,hidden2])\n",
        "output = keras.layers.Dense(1)(concat)\n",
        "\n",
        "model = keras.Model(inputs = [input_],outputs=[output])"
      ],
      "execution_count": 0,
      "outputs": []
    },
    {
      "cell_type": "code",
      "metadata": {
        "id": "wzFB0y0C3AGb",
        "colab_type": "code",
        "colab": {
          "base_uri": "https://localhost:8080/",
          "height": 714
        },
        "outputId": "9c764d0e-846f-4874-feec-18cc811d0486"
      },
      "source": [
        "model.compile(loss=\"mean_squared_error\", optimizer=\"sgd\")\n",
        "history = model.fit(X_train, y_train, epochs=20,validation_data=(X_val, y_val))\n",
        "mse_test = model.evaluate(X_test, y_test)\n"
      ],
      "execution_count": 17,
      "outputs": [
        {
          "output_type": "stream",
          "text": [
            "Epoch 1/20\n",
            "363/363 [==============================] - 1s 2ms/step - loss: 0.7706 - val_loss: 2.1800\n",
            "Epoch 2/20\n",
            "363/363 [==============================] - 1s 1ms/step - loss: 1.1087 - val_loss: 2.4663\n",
            "Epoch 3/20\n",
            "363/363 [==============================] - 1s 1ms/step - loss: 1.4991 - val_loss: 0.8005\n",
            "Epoch 4/20\n",
            "363/363 [==============================] - 1s 1ms/step - loss: 0.5412 - val_loss: 0.4745\n",
            "Epoch 5/20\n",
            "363/363 [==============================] - 1s 1ms/step - loss: 0.4078 - val_loss: 0.5181\n",
            "Epoch 6/20\n",
            "363/363 [==============================] - 1s 1ms/step - loss: 0.4355 - val_loss: 0.3870\n",
            "Epoch 7/20\n",
            "363/363 [==============================] - 1s 1ms/step - loss: 0.3755 - val_loss: 0.3998\n",
            "Epoch 8/20\n",
            "363/363 [==============================] - 1s 1ms/step - loss: 0.3668 - val_loss: 0.3933\n",
            "Epoch 9/20\n",
            "363/363 [==============================] - 1s 1ms/step - loss: 0.3690 - val_loss: 0.3810\n",
            "Epoch 10/20\n",
            "363/363 [==============================] - 1s 1ms/step - loss: 0.3535 - val_loss: 0.4458\n",
            "Epoch 11/20\n",
            "363/363 [==============================] - 1s 1ms/step - loss: 0.3511 - val_loss: 0.3683\n",
            "Epoch 12/20\n",
            "363/363 [==============================] - 1s 1ms/step - loss: 0.3443 - val_loss: 0.3838\n",
            "Epoch 13/20\n",
            "363/363 [==============================] - 1s 1ms/step - loss: 0.3405 - val_loss: 0.3502\n",
            "Epoch 14/20\n",
            "363/363 [==============================] - 1s 1ms/step - loss: 0.3369 - val_loss: 0.3657\n",
            "Epoch 15/20\n",
            "363/363 [==============================] - 1s 1ms/step - loss: 0.3341 - val_loss: 0.3601\n",
            "Epoch 16/20\n",
            "363/363 [==============================] - 1s 1ms/step - loss: 0.3312 - val_loss: 0.3797\n",
            "Epoch 17/20\n",
            "363/363 [==============================] - 1s 1ms/step - loss: 0.3275 - val_loss: 0.4085\n",
            "Epoch 18/20\n",
            "363/363 [==============================] - 1s 1ms/step - loss: 0.3314 - val_loss: 0.3544\n",
            "Epoch 19/20\n",
            "363/363 [==============================] - 1s 1ms/step - loss: 0.3220 - val_loss: 0.3361\n",
            "Epoch 20/20\n",
            "363/363 [==============================] - 1s 1ms/step - loss: 0.3184 - val_loss: 0.3763\n",
            "162/162 [==============================] - 0s 971us/step - loss: 0.3396\n"
          ],
          "name": "stdout"
        }
      ]
    },
    {
      "cell_type": "code",
      "metadata": {
        "id": "7WhAn8Nn3CnR",
        "colab_type": "code",
        "colab": {
          "base_uri": "https://localhost:8080/",
          "height": 282
        },
        "outputId": "cb289926-6c98-4984-ad7e-919414c3ee70"
      },
      "source": [
        "pd.DataFrame(history.history).plot()"
      ],
      "execution_count": 18,
      "outputs": [
        {
          "output_type": "execute_result",
          "data": {
            "text/plain": [
              "<matplotlib.axes._subplots.AxesSubplot at 0x7ff8164345c0>"
            ]
          },
          "metadata": {
            "tags": []
          },
          "execution_count": 18
        },
        {
          "output_type": "display_data",
          "data": {
            "image/png": "[encoded data removed]",
            "text/plain": [
              "<Figure size 432x288 with 1 Axes>"
            ]
          },
          "metadata": {
            "tags": [],
            "needs_background": "light"
          }
        }
      ]
    },
    {
      "cell_type": "markdown",
      "metadata": {
        "id": "quJIZqcm4Z9B",
        "colab_type": "text"
      },
      "source": [
        " If we send simple features from input to output layers directly and complex features via fully connected layers or highly dense network"
      ]
    },
    {
      "cell_type": "code",
      "metadata": {
        "id": "QSnJ5LGk4SU_",
        "colab_type": "code",
        "colab": {}
      },
      "source": [
        "input_A = keras.layers.Input(shape=[5],name=\"wide_input\")\n",
        "input_B = keras.layers.Input(shape=[6],name=\"deep_input\")\n",
        "hidden1 = keras.layers.Dense(30,activation=\"relu\")(input_B)\n",
        "hidden2 = keras.layers.Dense(30,activation=\"relu\")(hidden1)\n",
        "concat = keras.layers.concatenate([input_A, hidden2])\n",
        "\n",
        "output = keras.layers.Dense(1, name=\"output\")(concat)\n",
        "\n",
        "model = keras.Model(inputs=[input_A,input_B],outputs=[output])\n"
      ],
      "execution_count": 0,
      "outputs": []
    },
    {
      "cell_type": "code",
      "metadata": {
        "id": "0M4TLySt6wtj",
        "colab_type": "code",
        "colab": {}
      },
      "source": [
        "model.compile(loss=\"mse\", optimizer=keras.optimizers.SGD(lr=1e-3))\n",
        "X_train_A, X_train_B = X_train[:, :5], X_train[:, 2:]\n",
        "X_valid_A, X_valid_B = X_val[:, :5], X_valid[:, 2:]\n",
        "X_test_A, X_test_B = X_test[:, :5], X_test[:, 2:]\n",
        "\n",
        "\n"
      ],
      "execution_count": 0,
      "outputs": []
    },
    {
      "cell_type": "code",
      "metadata": {
        "id": "wKudJpda7bnJ",
        "colab_type": "code",
        "colab": {
          "base_uri": "https://localhost:8080/",
          "height": 714
        },
        "outputId": "ffab0274-6a2c-4084-c47d-2744696ca1a9"
      },
      "source": [
        "history = model.fit((X_train_A, X_train_B), y_train, epochs=20,\n",
        "validation_data=((X_valid_A, X_valid_B), y_val))\n",
        "mse_test = model.evaluate((X_test_A, X_test_B), y_test)\n"
      ],
      "execution_count": 27,
      "outputs": [
        {
          "output_type": "stream",
          "text": [
            "Epoch 1/20\n",
            "363/363 [==============================] - 1s 2ms/step - loss: 2.2174 - val_loss: 1.1153\n",
            "Epoch 2/20\n",
            "363/363 [==============================] - 1s 1ms/step - loss: 0.8740 - val_loss: 0.8081\n",
            "Epoch 3/20\n",
            "363/363 [==============================] - 1s 1ms/step - loss: 0.7367 - val_loss: 0.6991\n",
            "Epoch 4/20\n",
            "363/363 [==============================] - 1s 1ms/step - loss: 0.6792 - val_loss: 0.6558\n",
            "Epoch 5/20\n",
            "363/363 [==============================] - 1s 1ms/step - loss: 0.6449 - val_loss: 0.6262\n",
            "Epoch 6/20\n",
            "363/363 [==============================] - 1s 1ms/step - loss: 0.6190 - val_loss: 0.6094\n",
            "Epoch 7/20\n",
            "363/363 [==============================] - 1s 1ms/step - loss: 0.5976 - val_loss: 0.5886\n",
            "Epoch 8/20\n",
            "363/363 [==============================] - 1s 1ms/step - loss: 0.5792 - val_loss: 0.5706\n",
            "Epoch 9/20\n",
            "363/363 [==============================] - 1s 1ms/step - loss: 0.5627 - val_loss: 0.5652\n",
            "Epoch 10/20\n",
            "363/363 [==============================] - 1s 1ms/step - loss: 0.5476 - val_loss: 0.5382\n",
            "Epoch 11/20\n",
            "363/363 [==============================] - 1s 2ms/step - loss: 0.5345 - val_loss: 0.5266\n",
            "Epoch 12/20\n",
            "363/363 [==============================] - 1s 1ms/step - loss: 0.5228 - val_loss: 0.5215\n",
            "Epoch 13/20\n",
            "363/363 [==============================] - 1s 1ms/step - loss: 0.5118 - val_loss: 0.5136\n",
            "Epoch 14/20\n",
            "363/363 [==============================] - 1s 1ms/step - loss: 0.5026 - val_loss: 0.4990\n",
            "Epoch 15/20\n",
            "363/363 [==============================] - 1s 1ms/step - loss: 0.4939 - val_loss: 0.5049\n",
            "Epoch 16/20\n",
            "363/363 [==============================] - 1s 1ms/step - loss: 0.4860 - val_loss: 0.4964\n",
            "Epoch 17/20\n",
            "363/363 [==============================] - 1s 1ms/step - loss: 0.4794 - val_loss: 0.4922\n",
            "Epoch 18/20\n",
            "363/363 [==============================] - 1s 1ms/step - loss: 0.4724 - val_loss: 0.4772\n",
            "Epoch 19/20\n",
            "363/363 [==============================] - 1s 1ms/step - loss: 0.4670 - val_loss: 0.4731\n",
            "Epoch 20/20\n",
            "363/363 [==============================] - 1s 1ms/step - loss: 0.4616 - val_loss: 0.4656\n",
            "162/162 [==============================] - 0s 949us/step - loss: 0.4488\n"
          ],
          "name": "stdout"
        }
      ]
    },
    {
      "cell_type": "code",
      "metadata": {
        "id": "cTd_lDHi7hsj",
        "colab_type": "code",
        "colab": {
          "base_uri": "https://localhost:8080/",
          "height": 282
        },
        "outputId": "a5ab9105-abf6-4807-af63-6c2b4162d49d"
      },
      "source": [
        "pd.DataFrame(history.history).plot()"
      ],
      "execution_count": 29,
      "outputs": [
        {
          "output_type": "execute_result",
          "data": {
            "text/plain": [
              "<matplotlib.axes._subplots.AxesSubplot at 0x7ff815936080>"
            ]
          },
          "metadata": {
            "tags": []
          },
          "execution_count": 29
        },
        {
          "output_type": "display_data",
          "data": {
            "image/png": "[encoded data removed]",
            "text/plain": [
              "<Figure size 432x288 with 1 Axes>"
            ]
          },
          "metadata": {
            "tags": [],
            "needs_background": "light"
          }
        }
      ]
    },
    {
      "cell_type": "markdown",
      "metadata": {
        "id": "Cjzvk1vX7wWQ",
        "colab_type": "text"
      },
      "source": [
        "multiple outputs\n",
        "\n",
        "For example, you could perform multitask\n",
        "classification on pictures of faces, using one output to classify the\n",
        "person’s facial expression (smiling, surprised, etc.) and another\n",
        "output to identify whether they are wearing glasses or not."
      ]
    },
    {
      "cell_type": "code",
      "metadata": {
        "id": "29mf_ep47qmn",
        "colab_type": "code",
        "colab": {}
      },
      "source": [
        "input_A = keras.layers.Input(shape=[5],name=\"wide_input\")\n",
        "input_B = keras.layers.Input(shape=[6],name=\"deep_input\")\n",
        "hidden1 = keras.layers.Dense(30,activation=\"relu\")(input_B)\n",
        "hidden2 = keras.layers.Dense(30,activation=\"relu\")(hidden1)\n",
        "concat = keras.layers.concatenate([input_A, hidden2])\n",
        "\n",
        "output = keras.layers.Dense(1, name=\"main_output\")(concat)\n",
        "aux_output = keras.layers.Dense(1, name=\"aux_output\")(hidden2)\n",
        "\n",
        "model = keras.Model(inputs=[input_A, input_B], outputs=[output,aux_output])\n"
      ],
      "execution_count": 0,
      "outputs": []
    },
    {
      "cell_type": "code",
      "metadata": {
        "id": "nb_SWydd8R5Z",
        "colab_type": "code",
        "colab": {}
      },
      "source": [
        "model.compile(loss=[\"mse\", \"mse\"], loss_weights=[0.9, 0.1],optimizer=\"sgd\")\n"
      ],
      "execution_count": 0,
      "outputs": []
    },
    {
      "cell_type": "code",
      "metadata": {
        "id": "uZ-lUhno8VkF",
        "colab_type": "code",
        "colab": {
          "base_uri": "https://localhost:8080/",
          "height": 717
        },
        "outputId": "9ee20ee8-021a-47a4-f46c-b0c99e1e6a6c"
      },
      "source": [
        "history = model.fit([X_train_A, X_train_B], [y_train, y_train], epochs=20,\n",
        "validation_data=([X_valid_A, X_valid_B], [y_val, y_val]))\n"
      ],
      "execution_count": 32,
      "outputs": [
        {
          "output_type": "stream",
          "text": [
            "Epoch 1/20\n",
            "363/363 [==============================] - 1s 2ms/step - loss: 0.8862 - main_output_loss: 0.7873 - aux_output_loss: 1.7770 - val_loss: 1.8164 - val_main_output_loss: 1.8882 - val_aux_output_loss: 1.1701\n",
            "Epoch 2/20\n",
            "363/363 [==============================] - 1s 2ms/step - loss: 0.5468 - main_output_loss: 0.5031 - aux_output_loss: 0.9406 - val_loss: 0.5213 - val_main_output_loss: 0.4821 - val_aux_output_loss: 0.8747\n",
            "Epoch 3/20\n",
            "363/363 [==============================] - 1s 2ms/step - loss: 0.4703 - main_output_loss: 0.4341 - aux_output_loss: 0.7965 - val_loss: 0.4828 - val_main_output_loss: 0.4504 - val_aux_output_loss: 0.7745\n",
            "Epoch 4/20\n",
            "363/363 [==============================] - 1s 2ms/step - loss: 0.4509 - main_output_loss: 0.4212 - aux_output_loss: 0.7177 - val_loss: 0.4886 - val_main_output_loss: 0.4624 - val_aux_output_loss: 0.7250\n",
            "Epoch 5/20\n",
            "363/363 [==============================] - 1s 2ms/step - loss: 0.4347 - main_output_loss: 0.4087 - aux_output_loss: 0.6685 - val_loss: 0.4603 - val_main_output_loss: 0.4376 - val_aux_output_loss: 0.6648\n",
            "Epoch 6/20\n",
            "363/363 [==============================] - 1s 2ms/step - loss: 0.4244 - main_output_loss: 0.4009 - aux_output_loss: 0.6357 - val_loss: 0.4892 - val_main_output_loss: 0.4727 - val_aux_output_loss: 0.6378\n",
            "Epoch 7/20\n",
            "363/363 [==============================] - 1s 2ms/step - loss: 0.4181 - main_output_loss: 0.3966 - aux_output_loss: 0.6118 - val_loss: 0.4418 - val_main_output_loss: 0.4223 - val_aux_output_loss: 0.6176\n",
            "Epoch 8/20\n",
            "363/363 [==============================] - 1s 2ms/step - loss: 0.4104 - main_output_loss: 0.3898 - aux_output_loss: 0.5961 - val_loss: 0.4880 - val_main_output_loss: 0.4746 - val_aux_output_loss: 0.6082\n",
            "Epoch 9/20\n",
            "363/363 [==============================] - 1s 2ms/step - loss: 0.4085 - main_output_loss: 0.3893 - aux_output_loss: 0.5805 - val_loss: 0.4832 - val_main_output_loss: 0.4713 - val_aux_output_loss: 0.5901\n",
            "Epoch 10/20\n",
            "363/363 [==============================] - 1s 2ms/step - loss: 0.4001 - main_output_loss: 0.3814 - aux_output_loss: 0.5679 - val_loss: 0.4707 - val_main_output_loss: 0.4592 - val_aux_output_loss: 0.5740\n",
            "Epoch 11/20\n",
            "363/363 [==============================] - 1s 2ms/step - loss: 0.3955 - main_output_loss: 0.3774 - aux_output_loss: 0.5581 - val_loss: 0.4158 - val_main_output_loss: 0.3994 - val_aux_output_loss: 0.5638\n",
            "Epoch 12/20\n",
            "363/363 [==============================] - 1s 2ms/step - loss: 0.3897 - main_output_loss: 0.3722 - aux_output_loss: 0.5477 - val_loss: 0.5155 - val_main_output_loss: 0.5096 - val_aux_output_loss: 0.5681\n",
            "Epoch 13/20\n",
            "363/363 [==============================] - 1s 2ms/step - loss: 0.3846 - main_output_loss: 0.3674 - aux_output_loss: 0.5400 - val_loss: 0.4287 - val_main_output_loss: 0.4147 - val_aux_output_loss: 0.5541\n",
            "Epoch 14/20\n",
            "363/363 [==============================] - 1s 2ms/step - loss: 0.3842 - main_output_loss: 0.3672 - aux_output_loss: 0.5372 - val_loss: 0.4499 - val_main_output_loss: 0.4366 - val_aux_output_loss: 0.5698\n",
            "Epoch 15/20\n",
            "363/363 [==============================] - 1s 2ms/step - loss: 0.3801 - main_output_loss: 0.3635 - aux_output_loss: 0.5299 - val_loss: 0.4771 - val_main_output_loss: 0.4682 - val_aux_output_loss: 0.5571\n",
            "Epoch 16/20\n",
            "363/363 [==============================] - 1s 2ms/step - loss: 0.3779 - main_output_loss: 0.3616 - aux_output_loss: 0.5242 - val_loss: 0.4531 - val_main_output_loss: 0.4423 - val_aux_output_loss: 0.5496\n",
            "Epoch 17/20\n",
            "363/363 [==============================] - 1s 2ms/step - loss: 0.3765 - main_output_loss: 0.3603 - aux_output_loss: 0.5216 - val_loss: 0.4025 - val_main_output_loss: 0.3878 - val_aux_output_loss: 0.5347\n",
            "Epoch 18/20\n",
            "363/363 [==============================] - 1s 2ms/step - loss: 0.3686 - main_output_loss: 0.3527 - aux_output_loss: 0.5122 - val_loss: 0.4340 - val_main_output_loss: 0.4218 - val_aux_output_loss: 0.5436\n",
            "Epoch 19/20\n",
            "363/363 [==============================] - 1s 2ms/step - loss: 0.3682 - main_output_loss: 0.3524 - aux_output_loss: 0.5107 - val_loss: 0.4337 - val_main_output_loss: 0.4218 - val_aux_output_loss: 0.5400\n",
            "Epoch 20/20\n",
            "363/363 [==============================] - 1s 2ms/step - loss: 0.3651 - main_output_loss: 0.3497 - aux_output_loss: 0.5040 - val_loss: 0.3931 - val_main_output_loss: 0.3781 - val_aux_output_loss: 0.5279\n"
          ],
          "name": "stdout"
        }
      ]
    },
    {
      "cell_type": "code",
      "metadata": {
        "id": "zd0bTM4I8wHq",
        "colab_type": "code",
        "colab": {
          "base_uri": "https://localhost:8080/",
          "height": 282
        },
        "outputId": "b95f2b7d-128d-494c-8241-22a86c8714c1"
      },
      "source": [
        "pd.DataFrame(history.history).plot()\n"
      ],
      "execution_count": 33,
      "outputs": [
        {
          "output_type": "execute_result",
          "data": {
            "text/plain": [
              "<matplotlib.axes._subplots.AxesSubplot at 0x7ff812fb0a20>"
            ]
          },
          "metadata": {
            "tags": []
          },
          "execution_count": 33
        },
        {
          "output_type": "display_data",
          "data": {
            "image/png": "[encoded data removed]",
            "text/plain": [
              "<Figure size 432x288 with 1 Axes>"
            ]
          },
          "metadata": {
            "tags": [],
            "needs_background": "light"
          }
        }
      ]
    },
    {
      "cell_type": "code",
      "metadata": {
        "id": "1NhbrYSU81zd",
        "colab_type": "code",
        "colab": {}
      },
      "source": [
        ""
      ],
      "execution_count": 0,
      "outputs": []
    }
  ]
}